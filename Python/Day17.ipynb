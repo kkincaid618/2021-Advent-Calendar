{
 "cells": [
  {
   "cell_type": "code",
   "execution_count": 182,
   "metadata": {},
   "outputs": [],
   "source": [
    "file = open(\"../Data/Day17Data.txt\",\"r\")\n",
    "contents = file.readlines()\n",
    "area = contents[0]"
   ]
  },
  {
   "cell_type": "code",
   "execution_count": 183,
   "metadata": {},
   "outputs": [
    {
     "data": {
      "text/plain": [
       "'target area: x=79..137, y=-176..-117'"
      ]
     },
     "execution_count": 183,
     "metadata": {},
     "output_type": "execute_result"
    }
   ],
   "source": [
    "area"
   ]
  },
  {
   "cell_type": "code",
   "execution_count": 184,
   "metadata": {},
   "outputs": [],
   "source": [
    "import re"
   ]
  },
  {
   "cell_type": "code",
   "execution_count": 185,
   "metadata": {},
   "outputs": [
    {
     "name": "stdout",
     "output_type": "stream",
     "text": [
      "X Range: 79 - 137\n",
      "Y Range: -176 - -117\n"
     ]
    }
   ],
   "source": [
    "search_digits = re.findall('-*\\d+',area)\n",
    "\n",
    "min_x = int(search_digits[0])\n",
    "max_x = int(search_digits[1])\n",
    "min_y = int(search_digits[2])\n",
    "max_y = int(search_digits[3])\n",
    "\n",
    "print(f'X Range: {min_x} - {max_x}')\n",
    "print(f'Y Range: {min_y} - {max_y}')"
   ]
  },
  {
   "cell_type": "code",
   "execution_count": 186,
   "metadata": {},
   "outputs": [
    {
     "data": {
      "text/plain": [
       "137"
      ]
     },
     "execution_count": 186,
     "metadata": {},
     "output_type": "execute_result"
    }
   ],
   "source": [
    "max_x"
   ]
  },
  {
   "cell_type": "code",
   "execution_count": 209,
   "metadata": {},
   "outputs": [
    {
     "name": "stdout",
     "output_type": "stream",
     "text": [
      "[13, 175]\n",
      "[14, 175]\n",
      "[15, 175]\n",
      "[16, 175]\n"
     ]
    }
   ],
   "source": [
    "max_height = []\n",
    "successes = []\n",
    "\n",
    "for x in range(138):\n",
    "    for y in range(-177,200):\n",
    "        current_x = 0\n",
    "        current_y = 0\n",
    "        \n",
    "        traj_x = x\n",
    "        traj_y = y\n",
    "        traj = [x,y]\n",
    "        \n",
    "        steps = 0\n",
    "        overall_max = y\n",
    "        hit = False\n",
    "\n",
    "        while current_x <= max_x and current_y >= min_y and hit == False:\n",
    "\n",
    "            next_x = current_x + traj_x\n",
    "            next_y = current_y + traj_y\n",
    "\n",
    "            current_x = next_x\n",
    "            current_y = next_y\n",
    "\n",
    "            if current_y > overall_max:\n",
    "                overall_max = current_y\n",
    "\n",
    "            steps = steps + 1\n",
    "\n",
    "            if traj_x <= 0:\n",
    "                traj_x = 0\n",
    "            else: \n",
    "                traj_x = traj_x - 1\n",
    "\n",
    "            traj_y = traj_y - 1\n",
    "\n",
    "            if current_x >= min_x and current_x <= max_x and current_y >= min_y and current_y <= max_y:\n",
    "                hit = True\n",
    "                max_height.append(overall_max)\n",
    "                successes.append(traj)\n",
    "            else:\n",
    "                hit = False"
   ]
  },
  {
   "cell_type": "code",
   "execution_count": 210,
   "metadata": {},
   "outputs": [
    {
     "data": {
      "text/plain": [
       "15400"
      ]
     },
     "execution_count": 210,
     "metadata": {},
     "output_type": "execute_result"
    }
   ],
   "source": [
    "max(max_height)"
   ]
  },
  {
   "cell_type": "code",
   "execution_count": 211,
   "metadata": {},
   "outputs": [
    {
     "data": {
      "text/plain": [
       "5844"
      ]
     },
     "execution_count": 211,
     "metadata": {},
     "output_type": "execute_result"
    }
   ],
   "source": [
    "len(successes)"
   ]
  }
 ],
 "metadata": {
  "kernelspec": {
   "display_name": "Python 3.7.1 64-bit ('Anaconda3')",
   "language": "python",
   "name": "python3"
  },
  "language_info": {
   "codemirror_mode": {
    "name": "ipython",
    "version": 3
   },
   "file_extension": ".py",
   "mimetype": "text/x-python",
   "name": "python",
   "nbconvert_exporter": "python",
   "pygments_lexer": "ipython3",
   "version": "3.7.1"
  },
  "orig_nbformat": 4,
  "vscode": {
   "interpreter": {
    "hash": "bb36e720f0c158253e6737e9f94525311277718062156baf981ff97a2306408d"
   }
  }
 },
 "nbformat": 4,
 "nbformat_minor": 2
}
