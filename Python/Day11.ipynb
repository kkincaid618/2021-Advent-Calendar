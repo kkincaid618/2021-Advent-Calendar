{
 "cells": [
  {
   "cell_type": "code",
   "execution_count": 78,
   "metadata": {},
   "outputs": [],
   "source": [
    "data = [6744638455,\n",
    "        3135745418,\n",
    "        4754123271,\n",
    "        4224257161,\n",
    "        8167186546,\n",
    "        2268577674,\n",
    "        7177768175,\n",
    "        2662255275,\n",
    "        4655343376,\n",
    "        7852526168]\n",
    "\n",
    "test_data = [5483143223,\n",
    "                2745854711,\n",
    "                5264556173,\n",
    "                6141336146,\n",
    "                6357385478,\n",
    "                4167524645,\n",
    "                2176841721,\n",
    "                6882881134,\n",
    "                4846848554,\n",
    "                5283751526]"
   ]
  },
  {
   "cell_type": "code",
   "execution_count": 79,
   "metadata": {},
   "outputs": [],
   "source": [
    "string_length = len(str(data[0]))\n",
    "total_length = len(data)\n",
    "steps = 300"
   ]
  },
  {
   "cell_type": "code",
   "execution_count": 81,
   "metadata": {},
   "outputs": [],
   "source": [
    "# Create 2D list so each digit is in a row and a column\n",
    "\n",
    "new_data = []\n",
    "\n",
    "for index in range(total_length):\n",
    "    split = [digit for digit in str(data[index])]\n",
    "    new_data.append(split)\n",
    "\n",
    "data = new_data"
   ]
  },
  {
   "cell_type": "code",
   "execution_count": 82,
   "metadata": {},
   "outputs": [
    {
     "name": "stdout",
     "output_type": "stream",
     "text": [
      "All octopi flash on step 214\n",
      "All octopi flash on step 224\n",
      "All octopi flash on step 234\n",
      "All octopi flash on step 244\n",
      "All octopi flash on step 254\n",
      "All octopi flash on step 264\n",
      "All octopi flash on step 274\n",
      "All octopi flash on step 284\n",
      "All octopi flash on step 294\n"
     ]
    }
   ],
   "source": [
    "new_data = data\n",
    "total_flashes = 0\n",
    "\n",
    "for step in range(steps):\n",
    "    for row_index in range(total_length):\n",
    "        for col_index in range(string_length):\n",
    "            value = data[row_index][col_index]\n",
    "            value = int(value) + 1\n",
    "            new_data[row_index][col_index] = value\n",
    "        \n",
    "    data = new_data\n",
    "    new_data = data\n",
    "\n",
    "    OneD =  [j for sub in new_data for j in sub]\n",
    "\n",
    "    test_values = len([val for val in OneD if val > 9])\n",
    "\n",
    "    step_flashes = 0\n",
    "\n",
    "    while test_values > 0:\n",
    "        for row_index2 in range(total_length):\n",
    "            for col_index2 in range(string_length):\n",
    "                new_value = data[row_index2][col_index2]\n",
    "\n",
    "                if new_value > 9:\n",
    "                    total_flashes = total_flashes + 1\n",
    "                    step_flashes = step_flashes + 1\n",
    "\n",
    "                    if step_flashes >= 100:\n",
    "                        print(f'All octopi flash on step {step + 1}')\n",
    "\n",
    "                    new_data[row_index2][col_index2] = -1\n",
    "                    \n",
    "                    left = col_index2 - 1\n",
    "                    right = col_index2 + 1\n",
    "                    up = row_index2 - 1\n",
    "                    down = row_index2 + 1\n",
    "\n",
    "                    if left >= 0:\n",
    "                        old_value = data[row_index2][left]\n",
    "                        if old_value != -1: \n",
    "                            new_data[row_index2][left] = old_value + 1\n",
    "                        \n",
    "                        if up >= 0:\n",
    "                            old_value = data[up][left]\n",
    "                            if old_value != -1:\n",
    "                                new_data[up][left] = old_value + 1\n",
    "                        \n",
    "                        if down < total_length:\n",
    "                            old_value = data[down][left]\n",
    "                            if old_value != -1:\n",
    "                                new_data[down][left] = data[down][left] + 1\n",
    "                    \n",
    "                    if right < string_length:\n",
    "                        old_value = data[row_index2][right]\n",
    "                        if old_value != -1:\n",
    "                            new_data[row_index2][right] = old_value + 1\n",
    "\n",
    "                        if up >= 0:\n",
    "                            old_value = data[up][right]\n",
    "\n",
    "                            if old_value != -1:\n",
    "                                new_data[up][right] = old_value + 1\n",
    "\n",
    "                        if down < total_length:\n",
    "                            old_value = data[down][right]\n",
    "                            if old_value != -1:\n",
    "                                new_data[down][right] = old_value + 1\n",
    "\n",
    "                    if up >= 0:\n",
    "                        old_value = data[up][col_index2]\n",
    "                        if old_value != -1:\n",
    "                            new_data[up][col_index2] = old_value + 1\n",
    "                    \n",
    "                    if down < string_length:\n",
    "                        old_value = data[down][col_index2]\n",
    "                        if old_value != -1:\n",
    "                            new_data[down][col_index2] = old_value + 1\n",
    "        \n",
    "        OneD =  [j for sub in new_data for j in sub]\n",
    "        test_values = len([val for val in OneD if val > 9])\n",
    "    \n",
    "    for row_index3 in range(total_length):\n",
    "        for col_index3 in range(string_length):\n",
    "            value = new_data[row_index3][col_index3]\n",
    "            if value == -1:\n",
    "                new_data[row_index3][col_index3] = 0"
   ]
  },
  {
   "cell_type": "code",
   "execution_count": 83,
   "metadata": {},
   "outputs": [
    {
     "data": {
      "text/plain": [
       "4094"
      ]
     },
     "execution_count": 83,
     "metadata": {},
     "output_type": "execute_result"
    }
   ],
   "source": [
    "total_flashes"
   ]
  },
  {
   "cell_type": "markdown",
   "metadata": {},
   "source": [
    "# PART 2"
   ]
  },
  {
   "cell_type": "code",
   "execution_count": 84,
   "metadata": {},
   "outputs": [],
   "source": [
    "data = [6744638455,\n",
    "        3135745418,\n",
    "        4754123271,\n",
    "        4224257161,\n",
    "        8167186546,\n",
    "        2268577674,\n",
    "        7177768175,\n",
    "        2662255275,\n",
    "        4655343376,\n",
    "        7852526168]\n",
    "\n",
    "test_data = [5483143223,\n",
    "                2745854711,\n",
    "                5264556173,\n",
    "                6141336146,\n",
    "                6357385478,\n",
    "                4167524645,\n",
    "                2176841721,\n",
    "                6882881134,\n",
    "                4846848554,\n",
    "                5283751526]"
   ]
  },
  {
   "cell_type": "code",
   "execution_count": 85,
   "metadata": {},
   "outputs": [],
   "source": [
    "string_length = len(str(data[0]))\n",
    "total_length = len(data)\n",
    "steps = 300"
   ]
  },
  {
   "cell_type": "code",
   "execution_count": 86,
   "metadata": {},
   "outputs": [],
   "source": [
    "# Create 2D list so each digit is in a row and a column\n",
    "\n",
    "new_data = []\n",
    "\n",
    "for index in range(total_length):\n",
    "    split = [digit for digit in str(data[index])]\n",
    "    new_data.append(split)\n",
    "\n",
    "data = new_data"
   ]
  },
  {
   "cell_type": "code",
   "execution_count": 87,
   "metadata": {},
   "outputs": [
    {
     "name": "stdout",
     "output_type": "stream",
     "text": [
      "All octopi flash on step 214\n"
     ]
    }
   ],
   "source": [
    "new_data = data\n",
    "total_flashes = 0\n",
    "step = 0\n",
    "\n",
    "while step_flashes < 100:\n",
    "    for row_index in range(total_length):\n",
    "        for col_index in range(string_length):\n",
    "            value = data[row_index][col_index]\n",
    "            value = int(value) + 1\n",
    "            new_data[row_index][col_index] = value\n",
    "        \n",
    "    data = new_data\n",
    "    new_data = data\n",
    "\n",
    "    OneD =  [j for sub in new_data for j in sub]\n",
    "\n",
    "    test_values = len([val for val in OneD if val > 9])\n",
    "\n",
    "    step_flashes = 0\n",
    "\n",
    "    while test_values > 0:\n",
    "        for row_index2 in range(total_length):\n",
    "            for col_index2 in range(string_length):\n",
    "                new_value = data[row_index2][col_index2]\n",
    "\n",
    "                if new_value > 9:\n",
    "                    total_flashes = total_flashes + 1\n",
    "                    step_flashes = step_flashes + 1\n",
    "\n",
    "                    if step_flashes >= 100:\n",
    "                        print(f'All octopi flash on step {step + 1}')\n",
    "\n",
    "                    new_data[row_index2][col_index2] = -1\n",
    "                    \n",
    "                    left = col_index2 - 1\n",
    "                    right = col_index2 + 1\n",
    "                    up = row_index2 - 1\n",
    "                    down = row_index2 + 1\n",
    "\n",
    "                    if left >= 0:\n",
    "                        old_value = data[row_index2][left]\n",
    "                        if old_value != -1: \n",
    "                            new_data[row_index2][left] = old_value + 1\n",
    "                        \n",
    "                        if up >= 0:\n",
    "                            old_value = data[up][left]\n",
    "                            if old_value != -1:\n",
    "                                new_data[up][left] = old_value + 1\n",
    "                        \n",
    "                        if down < total_length:\n",
    "                            old_value = data[down][left]\n",
    "                            if old_value != -1:\n",
    "                                new_data[down][left] = data[down][left] + 1\n",
    "                    \n",
    "                    if right < string_length:\n",
    "                        old_value = data[row_index2][right]\n",
    "                        if old_value != -1:\n",
    "                            new_data[row_index2][right] = old_value + 1\n",
    "\n",
    "                        if up >= 0:\n",
    "                            old_value = data[up][right]\n",
    "\n",
    "                            if old_value != -1:\n",
    "                                new_data[up][right] = old_value + 1\n",
    "\n",
    "                        if down < total_length:\n",
    "                            old_value = data[down][right]\n",
    "                            if old_value != -1:\n",
    "                                new_data[down][right] = old_value + 1\n",
    "\n",
    "                    if up >= 0:\n",
    "                        old_value = data[up][col_index2]\n",
    "                        if old_value != -1:\n",
    "                            new_data[up][col_index2] = old_value + 1\n",
    "                    \n",
    "                    if down < string_length:\n",
    "                        old_value = data[down][col_index2]\n",
    "                        if old_value != -1:\n",
    "                            new_data[down][col_index2] = old_value + 1\n",
    "        \n",
    "        OneD =  [j for sub in new_data for j in sub]\n",
    "        test_values = len([val for val in OneD if val > 9])\n",
    "    \n",
    "    for row_index3 in range(total_length):\n",
    "        for col_index3 in range(string_length):\n",
    "            value = new_data[row_index3][col_index3]\n",
    "            if value == -1:\n",
    "                new_data[row_index3][col_index3] = 0\n",
    "    \n",
    "    step = step + 1"
   ]
  },
  {
   "cell_type": "code",
   "execution_count": null,
   "metadata": {},
   "outputs": [],
   "source": []
  }
 ],
 "metadata": {
  "kernelspec": {
   "display_name": "Python 3.7.1 64-bit ('Anaconda3')",
   "language": "python",
   "name": "python3"
  },
  "language_info": {
   "codemirror_mode": {
    "name": "ipython",
    "version": 3
   },
   "file_extension": ".py",
   "mimetype": "text/x-python",
   "name": "python",
   "nbconvert_exporter": "python",
   "pygments_lexer": "ipython3",
   "version": "3.7.1"
  },
  "orig_nbformat": 4,
  "vscode": {
   "interpreter": {
    "hash": "bb36e720f0c158253e6737e9f94525311277718062156baf981ff97a2306408d"
   }
  }
 },
 "nbformat": 4,
 "nbformat_minor": 2
}
