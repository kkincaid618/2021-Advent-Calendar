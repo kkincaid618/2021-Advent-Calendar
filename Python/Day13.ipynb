{
 "cells": [
  {
   "cell_type": "code",
   "execution_count": 222,
   "metadata": {},
   "outputs": [],
   "source": [
    "with open(\"data.txt\") as f:\n",
    "     lines = [line.rstrip(',\\n') for line in f]"
   ]
  },
  {
   "cell_type": "code",
   "execution_count": 223,
   "metadata": {},
   "outputs": [],
   "source": [
    "polymer_template = lines[0]\n",
    "template_length = len(polymer_template)\n",
    "\n",
    "insertion_reqs = [rule.split(' -> ')[0] for rule in lines[2:]]\n",
    "insertion_vals = [rule.split(' -> ')[1] for rule in lines[2:]]\n",
    "\n",
    "num_segments = template_length - 1"
   ]
  },
  {
   "cell_type": "code",
   "execution_count": 224,
   "metadata": {},
   "outputs": [],
   "source": [
    "dict = {}\n",
    "for elem in lines[2:]:\n",
    "    dict[elem.split(' -> ')[0]] = elem.split(' -> ')[1]"
   ]
  },
  {
   "cell_type": "code",
   "execution_count": 225,
   "metadata": {},
   "outputs": [],
   "source": [
    "steps = 40\n",
    "\n",
    "for step in range(steps):\n",
    "    new_polymer_template = []\n",
    "    template_length = len(polymer_template)\n",
    "\n",
    "    for i in range(template_length - 1):\n",
    "        next_i = i + 2\n",
    "        segment = polymer_template[i:next_i]\n",
    "\n",
    "        if segment in dict.keys():\n",
    "            insert_value = dict[segment]\n",
    "            new_string = segment[0] + insert_value + segment[1]\n",
    "            new_polymer_template.append(new_string)\n",
    "\n",
    "    for index in range(len(new_polymer_template) - 1):\n",
    "        value = new_polymer_template[index]\n",
    "        end_letter = value[2]\n",
    "        next_start = new_polymer_template[index+1][0]\n",
    "\n",
    "        if end_letter == next_start:\n",
    "            new_value = value[0:2]\n",
    "        else:\n",
    "            new_value = value\n",
    "        \n",
    "        new_polymer_template[index] = new_value\n",
    "\n",
    "    new_polymer_template = ''.join(new_polymer_template)\n",
    "    polymer_template = new_polymer_template"
   ]
  },
  {
   "cell_type": "code",
   "execution_count": null,
   "metadata": {},
   "outputs": [],
   "source": [
    "from collections import Counter"
   ]
  },
  {
   "cell_type": "code",
   "execution_count": null,
   "metadata": {},
   "outputs": [],
   "source": [
    "counter = Counter([val for val in polymer_template])\n",
    "\n",
    "counter_sorted = counter.most_common()\n",
    "most_common = counter_sorted[0][1]\n",
    "\n",
    "last_index = len(counter) - 1\n",
    "least_common = counter_sorted[last_index][1]"
   ]
  },
  {
   "cell_type": "code",
   "execution_count": null,
   "metadata": {},
   "outputs": [
    {
     "data": {
      "text/plain": [
       "2768"
      ]
     },
     "execution_count": 221,
     "metadata": {},
     "output_type": "execute_result"
    }
   ],
   "source": [
    "most_common - least_common"
   ]
  },
  {
   "cell_type": "code",
   "execution_count": null,
   "metadata": {},
   "outputs": [],
   "source": []
  }
 ],
 "metadata": {
  "kernelspec": {
   "display_name": "Python 3.7.1 64-bit ('Anaconda3')",
   "language": "python",
   "name": "python3"
  },
  "language_info": {
   "codemirror_mode": {
    "name": "ipython",
    "version": 3
   },
   "file_extension": ".py",
   "mimetype": "text/x-python",
   "name": "python",
   "nbconvert_exporter": "python",
   "pygments_lexer": "ipython3",
   "version": "3.7.1"
  },
  "orig_nbformat": 4,
  "vscode": {
   "interpreter": {
    "hash": "bb36e720f0c158253e6737e9f94525311277718062156baf981ff97a2306408d"
   }
  }
 },
 "nbformat": 4,
 "nbformat_minor": 2
}
