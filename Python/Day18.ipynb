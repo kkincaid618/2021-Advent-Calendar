{
 "cells": [
  {
   "cell_type": "code",
   "execution_count": 1456,
   "metadata": {},
   "outputs": [],
   "source": [
    "sample_num = [[[[[9,8],1],2],3],4]\n",
    "sample_num2 = [7,[6,[5,[4,[3,2]]]]]"
   ]
  },
  {
   "cell_type": "code",
   "execution_count": 1457,
   "metadata": {},
   "outputs": [],
   "source": [
    "def add(value1, value2):\n",
    "    value1.append(value2)\n",
    "\n",
    "    return value1"
   ]
  },
  {
   "cell_type": "code",
   "execution_count": 1458,
   "metadata": {},
   "outputs": [],
   "source": [
    "def test_nesting(value):\n",
    "    data = [value]\n",
    "    \n",
    "    while isinstance(value,list):\n",
    "        if isinstance(value[0],list):\n",
    "            prior_value = value\n",
    "            value = value[0]\n",
    "            \n",
    "            data.append(value)\n",
    "        elif isinstance(value[1],list):\n",
    "            prior_value = value\n",
    "            value = value[1]\n",
    "            \n",
    "            data.append(value)\n",
    "        else:\n",
    "            break\n",
    "    \n",
    "    print(value)\n",
    "    \n",
    "    if len(data) > 4:\n",
    "        explosion = True\n",
    "    else:\n",
    "        explosion = False\n",
    "\n",
    "    return data, explosion"
   ]
  },
  {
   "cell_type": "code",
   "execution_count": 1459,
   "metadata": {},
   "outputs": [],
   "source": [
    "def explode(data):\n",
    "    list_length = len(data)\n",
    "    inner_value = data[list_length - 1]\n",
    "\n",
    "    base_index = list_length - 1\n",
    "    base_list = data[base_index]\n",
    "\n",
    "    next_index = list_length - 2\n",
    "    next_list = data[next_index]\n",
    "\n",
    "    if base_list == inner_value:\n",
    "        value_index = next_list.index(inner_value)\n",
    "        add_values = []\n",
    "\n",
    "        for j in range(len(next_list)):\n",
    "            base_value = base_list[j]\n",
    "            \n",
    "            if value_index == 0 and j == 0:\n",
    "                add_value = -base_value\n",
    "            elif value_index == 0:\n",
    "                add_value = next_list[1]\n",
    "            elif value_index == 1 and j == 0:\n",
    "                add_value = next_list[0]\n",
    "            else:\n",
    "                add_value = -base_value\n",
    "            \n",
    "            new_value = base_value + add_value\n",
    "            add_values.append(new_value)\n",
    "\n",
    "    data[next_index - 1][value_index] = add_values\n",
    "    final_value = data[0]\n",
    "\n",
    "    return final_value"
   ]
  },
  {
   "cell_type": "code",
   "execution_count": 1460,
   "metadata": {},
   "outputs": [
    {
     "name": "stdout",
     "output_type": "stream",
     "text": [
      "[[[[[4, 3], 4], 4], [7, [[8, 4], 9]]], [1, 1]]\n"
     ]
    }
   ],
   "source": [
    "v1 = [[[[4,3],4],4],[7,[[8,4],9]]]\n",
    "v2 = [1,1]\n",
    "\n",
    "new = add([v1],v2)\n",
    "print(new)"
   ]
  },
  {
   "cell_type": "code",
   "execution_count": 1461,
   "metadata": {},
   "outputs": [
    {
     "name": "stdout",
     "output_type": "stream",
     "text": [
      "[4, 3]\n",
      "[[[[0, 7], 4], [7, [[8, 4], 9]]], [1, 1]]\n"
     ]
    }
   ],
   "source": [
    "data, explosion = test_nesting(new)\n",
    "if explosion:\n",
    "    data = explode(data)\n",
    "\n",
    "print(data)"
   ]
  },
  {
   "cell_type": "code",
   "execution_count": 1462,
   "metadata": {},
   "outputs": [],
   "source": [
    "value = [[[[0, 7], 4], [7, [[8, 4], 9]]], [1, 1]]"
   ]
  },
  {
   "cell_type": "code",
   "execution_count": 1463,
   "metadata": {},
   "outputs": [],
   "source": [
    "data = [value]\n",
    "\n",
    "while isinstance(value,list):\n",
    "    for i in range(len(value)):\n",
    "        if isinstance(value[0],list):\n",
    "            value = value[0][i]\n",
    "            data.append(value)\n",
    "        elif isinstance(value[1],list):\n",
    "            value = value[1][i]\n",
    "            data.append(value)\n",
    "        else:\n",
    "            break\n",
    "\n",
    "    if len(data) > 4:\n",
    "        explosion = True\n",
    "    else:\n",
    "        explosion = False"
   ]
  },
  {
   "cell_type": "code",
   "execution_count": 1464,
   "metadata": {},
   "outputs": [],
   "source": [
    "# value1 = [[[[0, 7], 4], [7, [[8, 4], 9]]], [1, 1]]\n",
    "# value2 = [[[0, 7], 4], [7, [[8, 4], 9]]]\n",
    "# value3 = [[0, 7], 4]\n",
    "# inner1 = [0, 7]\n",
    "\n",
    "# value1 = [[[[0, 7], 4], [7, [[8, 4], 9]]], [1, 1]]\n",
    "# value2 = [[[0, 7], 4], [7, [[8, 4], 9]]]\n",
    "# value3 = [7, [[8, 4], 9]]\n",
    "# value4 = [[8, 4], 9]\n",
    "# inner2 = [8, 4]\n",
    "\n",
    "# inner3 = [1, 1]"
   ]
  },
  {
   "cell_type": "code",
   "execution_count": 1517,
   "metadata": {},
   "outputs": [
    {
     "name": "stdout",
     "output_type": "stream",
     "text": [
      "[[[[0, 7], 4], [7, [[8, 4], 9]]], [1, 1]]\n",
      "[[[0, 7], 4], [7, [[8, 4], 9]]]\n",
      "[1, 1]\n"
     ]
    }
   ],
   "source": [
    "\n",
    "print(test)\n",
    "print(test[0])\n",
    "print(test[1])"
   ]
  },
  {
   "cell_type": "code",
   "execution_count": 1556,
   "metadata": {},
   "outputs": [
    {
     "name": "stdout",
     "output_type": "stream",
     "text": [
      "First Value: [[[[0, 7], 4], [7, [[8, 4], 9]]], [1, 1]]\n",
      "Second Value: [[[0, 7], 4], [7, [[8, 4], 9]]]\n",
      "Second Value: [1, 1]\n"
     ]
    }
   ],
   "source": [
    "test = [[[[0, 7], 4], [7, [[8, 4], 9]]], [1, 1]]\n",
    "final = False\n",
    "\n",
    "print(f'First Value: {test}')\n",
    "\n",
    "for i in range(2):\n",
    "    sublist = test[i]\n",
    "\n",
    "    print(f'Second Value: {sublist}')\n",
    "\n",
    "    final = False\n",
    "    j = 0\n",
    "    \n",
    "    while final == False and j < 20:\n",
    "        test_value = sublist[j]\n",
    "        \n",
    "        if isinstance(test_value,list):\n",
    "            value = value[j]\n",
    "            \n",
    "            print(f'Next Value: {value}')\n",
    "        else:\n",
    "            final = True\n",
    "            j = j + 1\n",
    "\n",
    "    # Once final == True, trigger next i of substring\n",
    "    "
   ]
  },
  {
   "cell_type": "markdown",
   "metadata": {},
   "source": []
  }
 ],
 "metadata": {
  "kernelspec": {
   "display_name": "Python 3.7.1 64-bit ('Anaconda3')",
   "language": "python",
   "name": "python3"
  },
  "language_info": {
   "codemirror_mode": {
    "name": "ipython",
    "version": 3
   },
   "file_extension": ".py",
   "mimetype": "text/x-python",
   "name": "python",
   "nbconvert_exporter": "python",
   "pygments_lexer": "ipython3",
   "version": "3.7.1"
  },
  "orig_nbformat": 4,
  "vscode": {
   "interpreter": {
    "hash": "bb36e720f0c158253e6737e9f94525311277718062156baf981ff97a2306408d"
   }
  }
 },
 "nbformat": 4,
 "nbformat_minor": 2
}
