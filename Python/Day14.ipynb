{
 "cells": [
  {
   "cell_type": "code",
   "execution_count": 1,
   "metadata": {},
   "outputs": [],
   "source": [
    "with open(\"../Data/Day14Data.txt\") as f:\n",
    "     lines = [line.rstrip(',\\n') for line in f]"
   ]
  },
  {
   "cell_type": "code",
   "execution_count": 2,
   "metadata": {},
   "outputs": [],
   "source": [
    "polymer_template = lines[0]\n",
    "template_length = len(polymer_template)\n",
    "\n",
    "insertion_reqs = [rule.split(' -> ')[0] for rule in lines[2:]]\n",
    "insertion_vals = [rule.split(' -> ')[1] for rule in lines[2:]]\n",
    "\n",
    "num_segments = template_length - 1"
   ]
  },
  {
   "cell_type": "code",
   "execution_count": 3,
   "metadata": {},
   "outputs": [],
   "source": [
    "dict = {}\n",
    "for elem in lines[2:]:\n",
    "    dict[elem.split(' -> ')[0]] = elem.split(' -> ')[1]"
   ]
  },
  {
   "cell_type": "code",
   "execution_count": 4,
   "metadata": {},
   "outputs": [
    {
     "name": "stdout",
     "output_type": "stream",
     "text": [
      "Step 0: 39\n",
      "Step 1: 77\n",
      "Step 2: 153\n",
      "Step 3: 305\n",
      "Step 4: 609\n",
      "Step 5: 1217\n",
      "Step 6: 2433\n",
      "Step 7: 4865\n",
      "Step 8: 9729\n",
      "Step 9: 19457\n",
      "Step 10: 38913\n",
      "Step 11: 77825\n",
      "Step 12: 155649\n",
      "Step 13: 311297\n",
      "Step 14: 622593\n",
      "Step 15: 1245185\n",
      "Step 16: 2490369\n",
      "Step 17: 4980737\n",
      "Step 18: 9961473\n",
      "Step 19: 19922945\n",
      "Step 20: 39845889\n",
      "Step 21: 79691777\n",
      "Step 22: 159383553\n",
      "Step 23: 318767105\n"
     ]
    }
   ],
   "source": [
    "steps = 40\n",
    "\n",
    "for step in range(steps):\n",
    "    new_polymer_template = []\n",
    "    template_length = len(polymer_template)\n",
    "\n",
    "    for i in range(template_length - 1):\n",
    "        next_i = i + 2\n",
    "        segment = polymer_template[i:next_i]\n",
    "\n",
    "        if segment in dict.keys():\n",
    "            insert_value = dict[segment]\n",
    "            new_string = segment[0] + insert_value + segment[1]\n",
    "            new_polymer_template.append(new_string)\n",
    "\n",
    "    for index in range(len(new_polymer_template) - 1):\n",
    "        value = new_polymer_template[index]\n",
    "        end_letter = value[2]\n",
    "        next_start = new_polymer_template[index+1][0]\n",
    "\n",
    "        if end_letter == next_start:\n",
    "            new_value = value[0:2]\n",
    "        else:\n",
    "            new_value = value\n",
    "        \n",
    "        new_polymer_template[index] = new_value\n",
    "\n",
    "    new_polymer_template = ''.join(new_polymer_template)\n",
    "    polymer_template = new_polymer_template\n",
    "    print(f'Step {step}: {len(polymer_template)}')"
   ]
  },
  {
   "cell_type": "code",
   "execution_count": null,
   "metadata": {},
   "outputs": [],
   "source": [
    "from collections import Counter"
   ]
  },
  {
   "cell_type": "code",
   "execution_count": null,
   "metadata": {},
   "outputs": [],
   "source": [
    "counter = Counter([val for val in polymer_template])\n",
    "\n",
    "counter_sorted = counter.most_common()\n",
    "most_common = counter_sorted[0][1]\n",
    "\n",
    "last_index = len(counter) - 1\n",
    "least_common = counter_sorted[last_index][1]"
   ]
  },
  {
   "cell_type": "code",
   "execution_count": null,
   "metadata": {},
   "outputs": [],
   "source": [
    "most_common - least_common"
   ]
  },
  {
   "cell_type": "code",
   "execution_count": null,
   "metadata": {},
   "outputs": [],
   "source": []
  }
 ],
 "metadata": {
  "kernelspec": {
   "display_name": "Python 3.7.1 64-bit ('Anaconda3')",
   "language": "python",
   "name": "python3"
  },
  "language_info": {
   "codemirror_mode": {
    "name": "ipython",
    "version": 3
   },
   "file_extension": ".py",
   "mimetype": "text/x-python",
   "name": "python",
   "nbconvert_exporter": "python",
   "pygments_lexer": "ipython3",
   "version": "3.7.1"
  },
  "orig_nbformat": 4,
  "vscode": {
   "interpreter": {
    "hash": "bb36e720f0c158253e6737e9f94525311277718062156baf981ff97a2306408d"
   }
  }
 },
 "nbformat": 4,
 "nbformat_minor": 2
}
