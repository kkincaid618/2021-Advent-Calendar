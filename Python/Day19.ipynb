{
 "cells": [
  {
   "cell_type": "code",
   "execution_count": 1,
   "metadata": {},
   "outputs": [],
   "source": [
    "scanner0 = [[0,2],[4,1],[3,3]]\n",
    "scanner1 = [[-1,-1],[-5,0],[-2,1]]"
   ]
  },
  {
   "cell_type": "code",
   "execution_count": 68,
   "metadata": {},
   "outputs": [],
   "source": [
    "with open(\"../Data/Day19Data.txt\") as f:\n",
    "    lines = [line.rstrip(',\\n') for line in f]\n",
    "    lines = [line.split(',') for line in lines]"
   ]
  },
  {
   "cell_type": "code",
   "execution_count": 69,
   "metadata": {},
   "outputs": [
    {
     "data": {
      "text/plain": [
       "136"
      ]
     },
     "execution_count": 69,
     "metadata": {},
     "output_type": "execute_result"
    }
   ],
   "source": [
    "len(lines)"
   ]
  },
  {
   "cell_type": "code",
   "execution_count": 70,
   "metadata": {},
   "outputs": [],
   "source": [
    "all_data = []\n",
    "scanner_number = 0\n",
    "\n",
    "for value in lines:\n",
    "    value_index = lines.index(value)\n",
    "\n",
    "    if 'scanner' in value[0]:\n",
    "        scanner_number = scanner_number + 1\n",
    "        all_data.append(scanner_data)\n",
    "        scanner_data = []\n",
    "    elif value[0] != '':\n",
    "        scanner_data.append(value)"
   ]
  },
  {
   "cell_type": "code",
   "execution_count": 72,
   "metadata": {},
   "outputs": [
    {
     "data": {
      "text/plain": [
       "5"
      ]
     },
     "execution_count": 72,
     "metadata": {},
     "output_type": "execute_result"
    }
   ],
   "source": [
    "len(all_data)"
   ]
  },
  {
   "cell_type": "code",
   "execution_count": 83,
   "metadata": {},
   "outputs": [],
   "source": [
    "scanner0 = all_data[1]\n",
    "scanner1 = all_data[2]\n",
    "scanner2 = all_data[3]\n",
    "scanner3 = all_data[4]\n",
    "scanner4 = all_data[0]"
   ]
  },
  {
   "cell_type": "code",
   "execution_count": 107,
   "metadata": {},
   "outputs": [],
   "source": [
    "all_x = []\n",
    "all_y = []\n",
    "all_z = []\n",
    "\n",
    "for i in range(len(scanner0)):\n",
    "    x = scanner0[i][0]\n",
    "    all_x.append(int(x) + 1000)\n",
    "    all_x.append(int(x) - 1000)\n",
    "    \n",
    "    y = scanner0[i][1]\n",
    "    all_y.append(int(y) + 1000)\n",
    "    all_y.append(int(y) - 1000)\n",
    "    \n",
    "    z = scanner0[i][2]\n",
    "    all_z.append(int(z) + 1000)\n",
    "    all_z.append(int(z) - 1000)"
   ]
  },
  {
   "cell_type": "code",
   "execution_count": 111,
   "metadata": {},
   "outputs": [
    {
     "name": "stdout",
     "output_type": "stream",
     "text": [
      "X: -1892 - 1630\n",
      "Y: -1824 - 1900\n",
      "Z: -1901 - 1763\n"
     ]
    }
   ],
   "source": [
    "print(f'X: {min(all_x)} - {max(all_x)}')\n",
    "print(f'Y: {min(all_y)} - {max(all_y)}')\n",
    "print(f'Z: {min(all_z)} - {max(all_z)}')"
   ]
  },
  {
   "cell_type": "code",
   "execution_count": null,
   "metadata": {},
   "outputs": [],
   "source": [
    "min"
   ]
  }
 ],
 "metadata": {
  "kernelspec": {
   "display_name": "Python 3.7.1 64-bit ('Anaconda3')",
   "language": "python",
   "name": "python3"
  },
  "language_info": {
   "codemirror_mode": {
    "name": "ipython",
    "version": 3
   },
   "file_extension": ".py",
   "mimetype": "text/x-python",
   "name": "python",
   "nbconvert_exporter": "python",
   "pygments_lexer": "ipython3",
   "version": "3.7.1"
  },
  "orig_nbformat": 4,
  "vscode": {
   "interpreter": {
    "hash": "bb36e720f0c158253e6737e9f94525311277718062156baf981ff97a2306408d"
   }
  }
 },
 "nbformat": 4,
 "nbformat_minor": 2
}
