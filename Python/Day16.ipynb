{
 "cells": [
  {
   "cell_type": "code",
   "execution_count": 1,
   "metadata": {},
   "outputs": [],
   "source": [
    "with open(\"../Data/Day16Data.txt\") as f:\n",
    "    lines = [line.rstrip(',\\n') for line in f]"
   ]
  },
  {
   "cell_type": "code",
   "execution_count": 3,
   "metadata": {},
   "outputs": [
    {
     "data": {
      "text/plain": [
       "[['0', '0000'],\n",
       " ['1', '0001'],\n",
       " ['2', '0010'],\n",
       " ['3', '0011'],\n",
       " ['4', '0100'],\n",
       " ['5', '0101'],\n",
       " ['6', '0110'],\n",
       " ['7', '0111'],\n",
       " ['8', '1000'],\n",
       " ['9', '1001'],\n",
       " ['A', '1010'],\n",
       " ['B', '1011'],\n",
       " ['C', '1100'],\n",
       " ['D', '1101'],\n",
       " ['E', '1110'],\n",
       " ['F', '1111']]"
      ]
     },
     "execution_count": 3,
     "metadata": {},
     "output_type": "execute_result"
    }
   ],
   "source": [
    "split = [value.split(' = ') for value in lines]\n",
    "split"
   ]
  },
  {
   "cell_type": "code",
   "execution_count": null,
   "metadata": {},
   "outputs": [],
   "source": []
  }
 ],
 "metadata": {
  "kernelspec": {
   "display_name": "Python 3.7.1 64-bit ('Anaconda3')",
   "language": "python",
   "name": "python3"
  },
  "language_info": {
   "codemirror_mode": {
    "name": "ipython",
    "version": 3
   },
   "file_extension": ".py",
   "mimetype": "text/x-python",
   "name": "python",
   "nbconvert_exporter": "python",
   "pygments_lexer": "ipython3",
   "version": "3.7.1"
  },
  "orig_nbformat": 4,
  "vscode": {
   "interpreter": {
    "hash": "bb36e720f0c158253e6737e9f94525311277718062156baf981ff97a2306408d"
   }
  }
 },
 "nbformat": 4,
 "nbformat_minor": 2
}
